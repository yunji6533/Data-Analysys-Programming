{
  "cells": [
    {
      "cell_type": "markdown",
      "id": "7ecf2ec0-5530-4a1e-b429-412ef3f492ca",
      "metadata": {
        "id": "7ecf2ec0-5530-4a1e-b429-412ef3f492ca"
      },
      "source": [
        "## **1. 패키치 설치 여부 확인**\n",
        "현재 환경에 강의에서 사용될 패키지들이 정상적으로 설치되었는지를 확인합니다.\n",
        "\n",
        "아래 셀을 클릭한 후, 내용을 수정하지 말고 `Ctrl+Enter` (Mac : `⌘+Enter`)를 눌러 실행하세요."
      ]
    },
    {
      "cell_type": "code",
      "execution_count": null,
      "id": "38655e03-da21-422b-bd77-58729695293b",
      "metadata": {
        "id": "38655e03-da21-422b-bd77-58729695293b",
        "colab": {
          "base_uri": "https://localhost:8080/"
        },
        "outputId": "f41e120c-0f98-46d6-978a-dcb4065017d0"
      },
      "outputs": [
        {
          "output_type": "stream",
          "name": "stdout",
          "text": [
            "NumPy version : 1.23.5\n",
            "Pandas version : 1.5.3\n",
            "SciPy version : 1.10.1\n",
            "Matplotlib version : 3.7.1\n",
            "Seaborn version : 0.12.2\n",
            "Scikit-Learn version : 1.2.2\n",
            "2023-09-06 01:20:52.300993\n"
          ]
        }
      ],
      "source": [
        "import numpy as np\n",
        "import pandas as pd\n",
        "import scipy as sp\n",
        "import matplotlib\n",
        "import seaborn as sns\n",
        "import sklearn\n",
        "\n",
        "print(f'NumPy version : {np.__version__}')\n",
        "print(f'Pandas version : {pd.__version__}')\n",
        "print(f'SciPy version : {sp.__version__}')\n",
        "print(f'Matplotlib version : {matplotlib.__version__}')\n",
        "print(f'Seaborn version : {sns.__version__}')\n",
        "print(f'Scikit-Learn version : {sklearn.__version__}')\n",
        "\n",
        "from datetime import datetime\n",
        "print(datetime.now())"
      ]
    },
    {
      "cell_type": "markdown",
      "id": "d7e92d68-016d-40f5-bb09-f4cec2d8016f",
      "metadata": {
        "id": "d7e92d68-016d-40f5-bb09-f4cec2d8016f"
      },
      "source": [
        "## **2. 셀 삽입 및 삭제하기, Code 셀 실행 순서**\n",
        "\n",
        "Jupyter Notebook 기준으로, 셀은 `Markdown`, `Code`, `Raw`로 구분됩니다.\n",
        "\n",
        "`Markdown` 셀은 현재 이 셀과 같이, 형식을 가진 텍스트를 가지는 셀을 말합니다. <br>\n",
        "`Raw` 셀은 형식을 가지지 않은 텍스트를 가지는 셀을 말합니다. (여기선 다루지 않습니다.) <br>\n",
        "`Code` 셀은 바로 위 셀과 같이, Python 코드를 가지는 셀을 말하며, 페이지에 나타난 순서와 별개로, 셀을 실행시킨 순서에 따라 커널의 상태(변수가 가진 값 등)가 변합니다.\n",
        "\n",
        "아래의 예시로 확인해봅니다."
      ]
    },
    {
      "cell_type": "markdown",
      "id": "914bbd58-19c5-4658-8226-3b9f1e3f626a",
      "metadata": {
        "id": "914bbd58-19c5-4658-8226-3b9f1e3f626a"
      },
      "source": [
        "### **2-1a.**\n",
        "가장 먼저 바로 아래의 셀을 실행해봅시다.\n",
        "\n",
        "`val`이라는 변수가 선언되었고, `1`이라는 값을 가지도록 초기화합니다."
      ]
    },
    {
      "cell_type": "code",
      "execution_count": null,
      "id": "5b5ae1e8-4f42-43fc-954b-ce0fa5f73abc",
      "metadata": {
        "id": "5b5ae1e8-4f42-43fc-954b-ce0fa5f73abc"
      },
      "outputs": [],
      "source": [
        "val = 1"
      ]
    },
    {
      "cell_type": "markdown",
      "id": "7d379e08-48ed-442d-b838-56f7aee64b28",
      "metadata": {
        "id": "7d379e08-48ed-442d-b838-56f7aee64b28"
      },
      "source": [
        "### **2-1b.**\n",
        "그 다음으로 바로 아래의 셀을 실행해봅시다.\n",
        "\n",
        "`val`의 초기값인 `1`이 출력됩니다."
      ]
    },
    {
      "cell_type": "code",
      "execution_count": null,
      "id": "05a27c97-023f-4236-9464-145cbc3a8331",
      "metadata": {
        "id": "05a27c97-023f-4236-9464-145cbc3a8331",
        "colab": {
          "base_uri": "https://localhost:8080/"
        },
        "outputId": "950ee615-e123-4509-fb7a-20af21089956"
      },
      "outputs": [
        {
          "output_type": "stream",
          "name": "stdout",
          "text": [
            "4\n"
          ]
        }
      ],
      "source": [
        "print(val)"
      ]
    },
    {
      "cell_type": "markdown",
      "id": "9370282d-4448-4c31-93dd-61e88d2b69d1",
      "metadata": {
        "id": "9370282d-4448-4c31-93dd-61e88d2b69d1"
      },
      "source": [
        "### **2-1c.**\n",
        "다음 셀은 `val`의 값에 `3`을 더합니다.\n",
        "\n",
        "다음 셀을 실행시킨 다음, **`2-1b.`** 아래의 셀을 다시 한번 실행시켜보세요. 셀의 순서로는 분명 `val`의 값을 수정하는(**`2-1c.`**) 셀이 값을 출력하는(**`2-1b.`**) 셀보다 나중임에도 불구하고, **`2-1b.`** 셀이 나중에 실행되었기 때문에 변경된 값이 출력됩니다."
      ]
    },
    {
      "cell_type": "code",
      "execution_count": null,
      "id": "fbb521c1-3dfb-4eb2-b9d6-12857d38505b",
      "metadata": {
        "id": "fbb521c1-3dfb-4eb2-b9d6-12857d38505b"
      },
      "outputs": [],
      "source": [
        "val += 3"
      ]
    },
    {
      "cell_type": "markdown",
      "id": "b44088b8-d1db-4ac0-a79d-56c7b1a2c843",
      "metadata": {
        "id": "b44088b8-d1db-4ac0-a79d-56c7b1a2c843"
      },
      "source": [
        "### **2-1d.**\n",
        "셀을 삽입하려면 삽입할 기준점이 될 셀을 한 번 클릭하여 선택하고(더블클릭하여 수정 모드로 진입한 경우, `Esc` 버튼을 눌러 선택 상태로 돌아갈 수 있습니다.) `b`키를 눌러 해당 셀의 아래에, `a`키를 눌러 해당 셀의 위에 삽입할 수 있습니다.\n",
        "\n",
        "지금 이 셀을 선택하고, `b`키를 눌러 이 셀의 아래에 `Code` 셀을 삽입한 다음, 다음 줄에 있는 코드를 복사하여 실행해보세요.\n",
        "\n",
        "`print(f'Hello World! : {val}')`"
      ]
    },
    {
      "cell_type": "code",
      "source": [
        "print(f'Hello World! : {val}')"
      ],
      "metadata": {
        "colab": {
          "base_uri": "https://localhost:8080/"
        },
        "id": "tWSqVgLHFeWT",
        "outputId": "d44f5615-44f6-480a-d15e-b924c3155bb8"
      },
      "id": "tWSqVgLHFeWT",
      "execution_count": null,
      "outputs": [
        {
          "output_type": "stream",
          "name": "stdout",
          "text": [
            "Hello World! : 4\n"
          ]
        }
      ]
    },
    {
      "cell_type": "markdown",
      "id": "1328735d-c8e8-42f3-ad7c-5894c446296b",
      "metadata": {
        "id": "1328735d-c8e8-42f3-ad7c-5894c446296b"
      },
      "source": [
        "### **2-1e.**\n",
        "\n",
        "셀을 삭제하려면 삭제할 셀을 한 번 클릭하여 선택하고(**`2-1d.`** 의 설명과 동일합니다. 수정 모드에서는 텍스트가 입력되기 때문에, `Esc` 버튼을 눌러 선택 상태로 돌아가세요.) `x`키를 눌러 삭제합니다.\n",
        "\n",
        "바로 아래 지워달라는 셀을 삭제해보세요."
      ]
    },
    {
      "cell_type": "code",
      "source": [],
      "metadata": {
        "id": "RWN9YvNQHoIt"
      },
      "id": "RWN9YvNQHoIt",
      "execution_count": null,
      "outputs": []
    },
    {
      "cell_type": "markdown",
      "id": "7749ab85-cea3-4a3c-90c0-8c6ce65e11ac",
      "metadata": {
        "id": "7749ab85-cea3-4a3c-90c0-8c6ce65e11ac"
      },
      "source": [
        "## **3. 간단한 Markdown 문법 활용해보기**\n",
        "\n",
        "`Markdown` 셀에서는 *[Markdown](https://en.wikipedia.org/wiki/Markdown)* 문법을 이용해 텍스트에 스타일을 입힐 수 있을 뿐만 아니라, 구분선을 삽입하거나, 테이블을 만들 수도 있습니다.\n",
        "\n",
        "아래 테이블에는 몇 개 예시 문법들이 적혀있습니다.\n",
        "\n",
        "| 스타일 | 문법 | 결과 텍스트 |\n",
        "| ------ | --: | :--------- |\n",
        "| 볼드체 | \\*\\*굵게 표시할 텍스트\\*\\* | **굵게 표시할 텍스트** |\n",
        "| 이탤릭체 | \\*눕혀서 표시할 텍스트\\* | *눕혀서 표시할 텍스트* |\n",
        "| 코드 글꼴 | \\`코드 블록으로 나타낼 텍스트\\` | `코드 블록으로 나타낼 텍스트` |\n",
        "\n",
        "[링크1](https://www.markdownguide.org/cheat-sheet/), [링크2](https://gist.github.com/ihoneymon/652be052a0727ad59601) 등의 설명 자료 혹은 매뉴얼을 참고하여 다음을 수행하세요.\n",
        "\n",
        "이 셀 바로 아래에 `Markdown` 셀을 삽입하고, 첫 번째 줄에는 `H2`, `Bold`를 적용하여 작성 년월일을 적고, 두 번째 줄에는 `Bold`, `Italic`을 적용하여 `Python`이라는 단어를 적으세요. 첫 번째 줄과 두 번째 줄의 사이에는 구분선(Horizontal Rule)을 추가하세요."
      ]
    },
    {
      "cell_type": "markdown",
      "source": [
        "##**2023-09-06**##\n",
        "* * *\n",
        "***python***\n"
      ],
      "metadata": {
        "id": "dsGw0-orGxaI"
      },
      "id": "dsGw0-orGxaI"
    },
    {
      "cell_type": "markdown",
      "id": "097e43fb-d8d4-4030-b8dc-d9e5e01770ce",
      "metadata": {
        "id": "097e43fb-d8d4-4030-b8dc-d9e5e01770ce"
      },
      "source": [
        "## **!. 제출 관련**\n",
        "실습 과제 수행은 Google Colab, Jupyter Notebook 등 무엇을 사용하여도 무관합니다.\n",
        "\n",
        "실습 과제 제출은 [GitHub](https://github.com/)을 이용합니다. Public Repository를 생성한 후, 해당 repository에 ***실행된*** 노트북 파일(.ipynb)을 업로드하여 해당 링크를 실습 과제 제출 폼의 본문에 담고, GitHub에 업로드한 파일과 동일한 파일을 과제 제출 폼의 첨부 파일란에 업로드하여 제출하시면 됩니다.\n",
        "\n",
        "제출 관련하여 문의사항이 있는 경우 강의 Q&A 게시판을 이용해주세요."
      ]
    }
  ],
  "metadata": {
    "kernelspec": {
      "display_name": "Python 3 (ipykernel)",
      "language": "python",
      "name": "python3"
    },
    "language_info": {
      "codemirror_mode": {
        "name": "ipython",
        "version": 3
      },
      "file_extension": ".py",
      "mimetype": "text/x-python",
      "name": "python",
      "nbconvert_exporter": "python",
      "pygments_lexer": "ipython3",
      "version": "3.10.12"
    },
    "colab": {
      "provenance": []
    }
  },
  "nbformat": 4,
  "nbformat_minor": 5
}