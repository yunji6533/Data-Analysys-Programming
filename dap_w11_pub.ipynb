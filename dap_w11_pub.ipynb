{
  "nbformat": 4,
  "nbformat_minor": 0,
  "metadata": {
    "colab": {
      "provenance": [],
      "include_colab_link": true
    },
    "kernelspec": {
      "name": "python3",
      "display_name": "Python 3"
    },
    "language_info": {
      "name": "python"
    }
  },
  "cells": [
    {
      "cell_type": "markdown",
      "metadata": {
        "id": "view-in-github",
        "colab_type": "text"
      },
      "source": [
        "<a href=\"https://colab.research.google.com/github/yunji6533/Data-Analysys-Programming/blob/main/dap_w11_pub.ipynb\" target=\"_parent\"><img src=\"https://colab.research.google.com/assets/colab-badge.svg\" alt=\"Open In Colab\"/></a>"
      ]
    },
    {
      "cell_type": "markdown",
      "source": [
        "## **1. 가설 정하기**\n",
        "\n",
        "통계 검정에서 가설은 두 가지로 분류됩니다: <br>\n",
        "1. 귀무가설(Null Hypothesis, H0)\n",
        "2. 대립가설(Alternative Hypothesis, H1 혹은 HA)\n",
        "\n",
        "이 두 가설 중, 분석자가 사실인지를 확인하고자 하는 가설은 대립가설이며, 귀무가설이 사실인지 아닌지를 확인함으로써 대립가설이 사실인지를 판단하는 것입니다.<br><br>\n",
        "\n",
        "예를 들어, 흡연 여부와 폐암의 관련성이 있는지를 확인하고자 하는 경우를 봅니다.<br><br>\n",
        "\n",
        "일반적으로 세간에는 담배를 피는 것이 폐암 발병 여부와 관련이 없다고 생각한다고 가정합시다.<br>\n",
        "그런데, 폐암에 걸리는 이유를 연구하는 연구자 A가 흡연과 폐암에는 직접적인 연관성이 있을 것 같다는 생각을 하여 통계분석을 통해 이의 진위여부를 확인하려고 합니다. <br>\n",
        "이 때, 연구자 A의 입장에서 확인하고자 하는 것은 **\"흡연 여부와 폐암 발생 여부에는 관련성이 *있다*\"** 이며, 이는 일반적으로 알려진 것인 **\"흡연 여부와 폐암 발생 여부에는 관련성이 *없다*\"**라는 가설이 거짓임을 확인함으로써 받아들일 수 있는 가설이 됩니다. <br>\n",
        "이 경우, **\"흡연 여부와 폐암 발생 여부에는 관련성이 *있다*\"** 는 **대립가설** 이 되고, **\"흡연 여부와 폐암 발생 여부에는 관련성이 *없다*\"** 는 **귀무가설** 이 됩니다."
      ],
      "metadata": {
        "id": "RCPUf8JG9mqj"
      }
    },
    {
      "cell_type": "code",
      "source": [
        "# 1-예시. 흡연과 폐암\n",
        "\n",
        "import pandas as pd\n",
        "from scipy.stats import ttest_ind\n",
        "from sklearn.utils import resample\n",
        "\n",
        "df_lung = pd.read_csv(\"https://raw.githubusercontent.com/6n23rp/ZGFwMjNtaWRkYXRh/main/c3VydmV5IGx1bmcgY2FuY2Vy.csv\")\n",
        "df_lung.replace({\n",
        "    1 : False,\n",
        "    2 : True,\n",
        "    'NO' : 0,\n",
        "    'YES' : 1\n",
        "}, inplace = True)\n",
        "\n",
        "print(df_lung.head(1))\n",
        "\n",
        "# 독립표본 T-분석(Independent Two-Sample t-test)을 통해 가설을 검사한다고 합니다.\n",
        "# nonsmokers는 무작위로 추출된 100명의 비흡연자 표본입니다.\n",
        "nonsmokers = resample(df_lung[~df_lung['SMOKING']], n_samples = 100, random_state = 42)\n",
        "# smokers는 무작위로 추출된 100명의 흡연자 표본입니다.\n",
        "smokers = resample(df_lung[df_lung['SMOKING']], n_samples = 100, random_state = 24)\n",
        "\n",
        "# 각 표본 DataFrame의 'LUNG_CANCER' 열은 폐암을 가진 경우 1, 폐암을 가지지 않은 경우 0을 가집니다.\n",
        "# 두 표본 집단의 폐암 여부 평균이 크게 다르다면 흡연 여부와 폐암 발병 여부는 서로 관련이 없다는 귀무가설(H0)을 기각하여,\n",
        "# 흡연 여부와 폐암 발병 여부에는 관련이 있다는 대립가설(H1)을 받아들일 수 있게 됩니다.\n",
        "\n",
        "# ttest_ind는 두 표본 집단의 평균값을 비교하여 p값을 반환합니다. 평균값의 차이가 작을수록 p값이 크고(최대 1), 차이가 클수록 p값이 작습니다(최소 0).\n",
        "_, p_value = ttest_ind(nonsmokers['LUNG_CANCER'], smokers['LUNG_CANCER'])\n",
        "\n",
        "# 유의수준이 0.05라고 가정합니다.\n",
        "a = 0.05\n",
        "\n",
        "# p값이 유의수준보다 작은 경우 귀무가설을 기각하여 대립가설을 받아들입니다. p값이 유의수준보다 크거나 같은 경우 귀무가설을 받아들이고 대립가설을 기각합니다.\n",
        "if p_value < a:\n",
        "  print(f\"P-value [{p_value}] < Significant level [{a}]; H1 is accepted.\")\n",
        "else:\n",
        "  print(f\"P-value [{p_value}] >= Significant level [{a}]; H0 is accepted.\")\n",
        "\n",
        "# 실행 결과를 보면 p값이 0.63..으로 유의수준보다 크기 때문에 귀무가설을 받아들이고, 흡연 여부와 폐암 발병 여부는 관련이 있다는 대립가설을 기각합니다.\n",
        "# 따라서, 이 분석의 결론은 \"흡연 여부와 폐암 발병 여부는 관련이 없다\" 입니다."
      ],
      "metadata": {
        "colab": {
          "base_uri": "https://localhost:8080/"
        },
        "id": "6bSu-TsBJV3R",
        "outputId": "b6780089-9919-4d08-b0c4-f27e130caf35"
      },
      "execution_count": 1,
      "outputs": [
        {
          "output_type": "stream",
          "name": "stdout",
          "text": [
            "  GENDER  AGE  SMOKING  YELLOW_FINGERS  ANXIETY  PEER_PRESSURE  \\\n",
            "0      M   69    False            True     True          False   \n",
            "\n",
            "   CHRONIC DISEASE  FATIGUE   ALLERGY   WHEEZING  ALCOHOL CONSUMING  COUGHING  \\\n",
            "0            False      True     False      True               True      True   \n",
            "\n",
            "   SHORTNESS OF BREATH  SWALLOWING DIFFICULTY  CHEST PAIN  LUNG_CANCER  \n",
            "0                 True                   True        True            1  \n",
            "P-value [0.6393698855947099] >= Significant level [0.05]; H0 is accepted.\n"
          ]
        }
      ]
    },
    {
      "cell_type": "markdown",
      "source": [
        "## **2. 유의수준 정하기**\n",
        "\n",
        "1.의 예시를 보면, 두 표본간의 평균값이 별 차이가 나지 않는 경우 귀무가설을 받아들이고, 대립가설을 기각하였습니다. 이 때 판단 기준인 \"평균값의 차이\" 정도를 결정하는 것이 유의수준입니다."
      ],
      "metadata": {
        "id": "OkwhUzJMBM5r"
      }
    },
    {
      "cell_type": "code",
      "source": [
        "from scipy.stats import ttest_ind\n",
        "\n",
        "# 아래와 같은 두 표본이 있습니다.\n",
        "smokers =     [1, 1, 0, 0, 1, 0, 0, 0, 0, 0]\n",
        "nonsmokers =  [1, 1, 1, 1, 1, 1, 1, 0, 0, 0]\n",
        "\n",
        "# ttest_ind는 두 표본 집단의 평균값을 비교하여 p값을 반환합니다.\n",
        "_, p_value = ttest_ind(nonsmokers, smokers)\n",
        "\n",
        "# 유의수준을 0.05으로 지정합니다.\n",
        "a = 0.05\n",
        "\n",
        "# p값이 유의수준보다 작은 경우 귀무가설을 기각하여 대립가설을 받아들입니다. p값이 유의수준보다 크거나 같은 경우 귀무가설을 받아들이고 대립가설을 기각합니다.\n",
        "def fun(p_value, a):\n",
        "  if p_value < a:\n",
        "    print(f\"P-value [{p_value}] < Significant level [{a}]; H1 is accepted.\")\n",
        "  else:\n",
        "    print(f\"P-value [{p_value}] >= Significant level [{a}]; H0 is accepted.\")\n",
        "\n",
        "# 유의수준이 0.05인 경우, p값이 0.05보다 크기 때문에 귀무가설을 받아들이고, 대립가설을 기각합니다.\n",
        "fun(p_value, a)\n",
        "\n",
        "# 유의수준이 0.1이라고 합니다.\n",
        "a = 0.1\n",
        "\n",
        "# 유의수준이 0.1인 경우에는 p값이 0.1보다 작기 때문에 귀무가설을 기각하고, 대립가설을 받아들입니다.\n",
        "fun(p_value, a)\n",
        "\n",
        "# 즉, 유의수준이 클수록 대립가설을 받아들이는 기준이 유하다는 것을 확인할 수 있습니다."
      ],
      "metadata": {
        "colab": {
          "base_uri": "https://localhost:8080/"
        },
        "id": "yOH939nLTTQN",
        "outputId": "26d0fca0-cc7e-465e-e984-a1fcb9e6c1cb"
      },
      "execution_count": 2,
      "outputs": [
        {
          "output_type": "stream",
          "name": "stdout",
          "text": [
            "P-value [0.08055387210850923] >= Significant level [0.05]; H0 is accepted.\n",
            "P-value [0.08055387210850923] < Significant level [0.1]; H1 is accepted.\n"
          ]
        }
      ]
    },
    {
      "cell_type": "markdown",
      "source": [
        "## **3. 단일표본 T-분석 (One-Sample t-test)**\n",
        "\n",
        "단일표본 T-분석은 집단의 어떠한 변수의 평균이 어떠한 값과 같거나 비슷할지를 판단하고자 할 때 사용합니다.<br><br>\n",
        "\n",
        "예를 들어, 타이타닉호 승객의 평균 나이는 30세 혹은 30세 정도일 것인지를 확인하고자 합니다. 이 때 귀무가설은 \"타이타닉호 승객의 평균 나이는 30세이다\"이고, 대립가설은 \"타이타닉호 승객의 평균 나이는 30세가 아니다\"가 됩니다. 아래 코드 셀에 이 가설을 확인하는 단일표본 T-분석의 예시가 있습니다."
      ],
      "metadata": {
        "id": "b7CRi17UCCpZ"
      }
    },
    {
      "cell_type": "code",
      "source": [
        "# 3-예시.\n",
        "\n",
        "# 단일표본 T-분석에는 scipy의 ttest_1samp 메서드를 이용합니다.\n",
        "from scipy.stats import ttest_1samp\n",
        "\n",
        "df_titanic = pd.read_csv(\"https://raw.githubusercontent.com/datasciencedojo/datasets/master/titanic.csv\")\n",
        "\n",
        "# 승객들의 나이 정보를 이용합니다. (결측값은 제거합니다.)\n",
        "ages = df_titanic[\"Age\"].dropna()\n",
        "\n",
        "# 평균을 계산할 집단의 변수인 ages와 비교 대상 값인 30을 ttest_1samp의 파라미터로 전달하여 p값을 계산합니다.\n",
        "_, p_value = ttest_1samp(ages, 30)\n",
        "\n",
        "# 유의수준을 0.01로 선택합니다.\n",
        "a = 0.01\n",
        "\n",
        "# p값이 유의수준보다 작은 경우 귀무가설을 기각합니다.\n",
        "if p_value < a:\n",
        "  print(f\"P-value [{p_value}] < Significant level [{a}]; H1 is accepted.\")\n",
        "else:\n",
        "  print(f\"P-value [{p_value}] >= Significant level [{a}]; H0 is accepted.\")\n",
        "\n",
        "# 결과를 보면, p값이 유의수준보다 크기 때문에 귀무가설을 받아들입니다.\n",
        "# 따라서, 이 분석의 결론은 \"타이타닉호 승객의 평균 나이는 30세이다\"가 됩니다.\n",
        "\n",
        "# 실제로 평균 나이를 확인해보면 29.69...으로 30세에 가까운 것을 확인할 수 있습니다.\n",
        "print(ages.mean())"
      ],
      "metadata": {
        "colab": {
          "base_uri": "https://localhost:8080/"
        },
        "id": "WmMT5rhcg9gi",
        "outputId": "65f941aa-c498-4163-c22e-86199bcc006d"
      },
      "execution_count": 3,
      "outputs": [
        {
          "output_type": "stream",
          "name": "stdout",
          "text": [
            "P-value [0.5801231230388639] >= Significant level [0.01]; H0 is accepted.\n",
            "29.69911764705882\n"
          ]
        }
      ]
    },
    {
      "cell_type": "code",
      "source": [
        "# 3. df_titanic을 이용하여, 임의의 귀무가설과 대립가설을 수립해 단일표본 T-분석을 수행하세요.\n",
        "# 유의수준은 임의로 설정하세요.\n",
        "# 출력은 실제 평균값 확인을 제외하고 예시와 같은 방식으로 하세요.\n",
        "from scipy.stats import ttest_1samp\n",
        "\n",
        "df_titanic = pd.read_csv(\"https://raw.githubusercontent.com/datasciencedojo/datasets/master/titanic.csv\")\n",
        "\n",
        "# 아래에 귀무가설(H0)과 대립가설(H1)을 기재하세요.\n",
        "# H0\n",
        "\"\"\"\n",
        "타이타닉 승객의 평균 운임이 $30이다.\n",
        "\"\"\"\n",
        "\n",
        "# H1\n",
        "\"\"\"\n",
        "타이타닉 승객의 평균 운임이 $30과 다르다.\n",
        "\"\"\"\n",
        "\n",
        "# 아래 구간 내에서 T-분석을 수행하세요.\n",
        "######>\n",
        "alpha = 0.05\n",
        "fares = df_titanic[\"Fare\"].dropna()\n",
        "_, p_value = ttest_1samp(fares, 30)\n",
        "######<\n",
        "\n",
        "# 아래에 분석의 결론을 기재하세요.\n",
        "\"\"\"\n",
        "만약 p-값이 유의수준 0.05보다 작다면 \"타이타닉 승객의 평균 운임은 $30과 다르다\"라는 결론을 내릴 것입니다. 반대로 p-값이 0.05 이상이면 \"타이타닉 승객의 평균 운임은 $30이다\"라는 귀무가설을 유지할 것입니다.\n",
        "\"\"\"\n",
        "\"\"\""
      ],
      "metadata": {
        "colab": {
          "base_uri": "https://localhost:8080/",
          "height": 35
        },
        "id": "lxAkS19vmmQo",
        "outputId": "6a2b415c-2d8d-4f3d-87bd-37b3f2cab026"
      },
      "execution_count": null,
      "outputs": [
        {
          "output_type": "execute_result",
          "data": {
            "text/plain": [
              "'\\n\\n'"
            ],
            "application/vnd.google.colaboratory.intrinsic+json": {
              "type": "string"
            }
          },
          "metadata": {},
          "execution_count": 4
        }
      ]
    },
    {
      "cell_type": "markdown",
      "source": [
        "## **4. 두 집단간 평균 비교 -- 독립표본 T-분석 (Independent Two-Sample t-test)**\n",
        "\n",
        "독립표본 T-분석은 서로 독립인 두 표본의 평균이 비슷한지를 판단할 때 사용합니다.<br><br>\n",
        "\n",
        "예를 들어, 타이타닉호의 승객 중, 생존한(Survived = 1) 승객들과 사망한(Survived = 0) 승객들의 평균 운임(Fare)이 같거나 비슷한지를 확인하고자 합니다. 이 때, 귀무가설은 \"생존한 승객과 사망한 승객의 평균 운임은 같다\"이고, 대립가설은 \"생존한 승객과 사망한 승객의 평균 운임은 같지 않다\"가 됩니다."
      ],
      "metadata": {
        "id": "FDDKLWSbCC1T"
      }
    },
    {
      "cell_type": "code",
      "source": [
        "# 4-예시.\n",
        "\n",
        "# 독립표본 T-분석에는 scipy의 ttest_ind 메서드를 이용합니다.\n",
        "from scipy.stats import ttest_ind\n",
        "\n",
        "df_titanic = pd.read_csv(\"https://raw.githubusercontent.com/datasciencedojo/datasets/master/titanic.csv\")\n",
        "\n",
        "# 생존 여부 혹은 운임 정보가 없는 레코드는 제거합니다.\n",
        "df_titanic = df_titanic.dropna(subset = [\"Survived\", \"Fare\"])\n",
        "\n",
        "# 생존자들의 운임 정보를 추출합니다.\n",
        "survived_fares = df_titanic[df_titanic[\"Survived\"] == 1][\"Fare\"]\n",
        "\n",
        "# 사망자들의 운임 정보를 추출합니다.\n",
        "dead_fares = df_titanic[df_titanic[\"Survived\"] == 0][\"Fare\"]\n",
        "\n",
        "# 평균을 비교할 두 표본을 ttest_ind의 파라미터로 전달하여 p값을 계산합니다.\n",
        "_, p_value = ttest_ind(survived_fares, dead_fares)\n",
        "\n",
        "# 유의수준을 0.05로 선택합니다.\n",
        "a = 0.05\n",
        "\n",
        "# p값이 유의수준보다 작은 경우 귀무가설을 기각합니다.\n",
        "if p_value < a:\n",
        "  print(f\"P-value [{p_value}] < Significant level [{a}]; H1 is accepted.\")\n",
        "else:\n",
        "  print(f\"P-value [{p_value}] >= Significant level [{a}]; H0 is accepted.\")\n",
        "\n",
        "# 결과를 보면, p값이 유의수준보다 작기 때문에 대립가설을 받아들입니다.\n",
        "# 따라서, 이 분석의 결론은 \"생존한 승객과 사망한 승객의 평균 운임은 같지 않다\"가 됩니다.\n",
        "\n",
        "# 실제로 두 표본의 평균을 확인해보면, 약 48과 22로 상당히 큰 차이가 있음을 확인할 수 있습니다.\n",
        "print(survived_fares.mean())\n",
        "print(dead_fares.mean())"
      ],
      "metadata": {
        "colab": {
          "base_uri": "https://localhost:8080/"
        },
        "id": "0HdtQExSg90w",
        "outputId": "4798a9eb-e688-4140-b61c-3deba6dc23ef"
      },
      "execution_count": 4,
      "outputs": [
        {
          "output_type": "stream",
          "name": "stdout",
          "text": [
            "P-value [6.120189341924198e-15] < Significant level [0.05]; H1 is accepted.\n",
            "48.39540760233918\n",
            "22.117886885245902\n"
          ]
        }
      ]
    },
    {
      "cell_type": "code",
      "source": [
        "# 4. df_titanic을 이용하여, 임의의 귀무가설과 대립가설을 수립해 독립표본 T-분석을 수행하세요.\n",
        "# 유의수준은 임의로 설정하세요.\n",
        "# 출력은 실제 평균 비교를 제외하고 예시와 같은 방식으로 하세요.\n",
        "from scipy.stats import ttest_ind\n",
        "\n",
        "df_titanic = pd.read_csv(\"https://raw.githubusercontent.com/datasciencedojo/datasets/master/titanic.csv\")\n",
        "\n",
        "# 아래에 귀무가설(H0)과 대립가설(H1)을 기재하세요.\n",
        "# H0\n",
        "\"\"\"\n",
        "생존한 승객과 사망한 승객의 평균 나이가 같다.\n",
        "\"\"\"\n",
        "\n",
        "# H1\n",
        "\"\"\"\n",
        "생존한 승객과 사망한 승객의 평균 나이가 다르다.\n",
        "\"\"\"\n",
        "\n",
        "# 아래 구간 내에서 T-분석을 수행하세요.\n",
        "######>\n",
        "\n",
        "alpha = 0.05\n",
        "_, p_value = ttest_ind(df_titanic[df_titanic[\"Survived\"] == 1][\"Age\"].dropna(),\n",
        "                       df_titanic[df_titanic[\"Survived\"] == 0][\"Age\"].dropna())\n",
        "\n",
        "######<\n",
        "\n",
        "# 아래에 분석의 결론을 기재하세요.\n",
        "\"\"\"\n",
        "만약 p-값이 유의수준 0.05보다 작다면 \"생존한 승객과 사망한 승객의 평균 나이는 다르다\"라는 결론을 내릴 것입니다.\n",
        "그렇지 않다면 \"생존한 승객과 사망한 승객의 평균 나이는 같다\"라는 귀무가설을 유지할 것입니다.\n",
        "\"\"\""
      ],
      "metadata": {
        "colab": {
          "base_uri": "https://localhost:8080/",
          "height": 35
        },
        "id": "NHOI5PPJuS-8",
        "outputId": "089c5709-26b0-48ec-e300-3cd64364c5b6"
      },
      "execution_count": 5,
      "outputs": [
        {
          "output_type": "execute_result",
          "data": {
            "text/plain": [
              "'\\n\\n'"
            ],
            "application/vnd.google.colaboratory.intrinsic+json": {
              "type": "string"
            }
          },
          "metadata": {},
          "execution_count": 5
        }
      ]
    },
    {
      "cell_type": "markdown",
      "source": [
        "## **5. 대응표본 T-분석 (Paired Sample t-test)**\n",
        "\n",
        "대응표본 T-분석은 동일 표본에 발생한 특정 사건 전과 후로 구분된 두 관측점 사이 표본 내 각 개체별 변화량의 평균이 유의미한지를 확인할 때 사용합니다.\n",
        "\n",
        "집단 전체의 평균의 차이가 아니라, 집단 내 객체들의 사건 전후 차이의 평균을 이용합니다.<br><br>\n",
        "\n",
        "예시로는 다이어트 약품 투약 전과 후의 체중 비교, 어느 특강을 수강하기 전과 후의 학업성취도 비교 등이 있겠습니다. <br><br>\n",
        "\n",
        "현실 데이터셋을 구하기 쉽지 않기 때문에, 임의로 생성된 데이터를 이용하는 예시 코드를 제시합니다."
      ],
      "metadata": {
        "id": "D7TqTfK-CC_V"
      }
    },
    {
      "cell_type": "code",
      "source": [
        "# 5-예시.\n",
        "\n",
        "import numpy as np\n",
        "import math\n",
        "\n",
        "# 대응표본 T-분석에는 ttest_rel 메서드를 이용합니다.\n",
        "from scipy.stats import ttest_rel\n",
        "\n",
        "# 10대의 각기 다른 성능을 가진 PC가 동일한 프로그램을 실행하였을 때, 실행 완료까지 걸리는 시간을 보유하고 있다고 합니다.\n",
        "befores = np.array([10, 11, 12, 13, 14, 15, 16, 17, 18, 19])\n",
        "\n",
        "# 이 프로그램에 어떠한 패치가 적용된 이후, 각 PC의 실행 완료 시간을 측정하였다고 합니다.\n",
        "np.random.seed(42)\n",
        "afters = befores + np.random.normal(0, 5, size = len(befores))\n",
        "\n",
        "# 이 패치가 실행속도에 영향을 주었는지를 검사하고자 합니다.\n",
        "# 귀무가설(H0)은 \"패치는 프로그램의 실행 속도에 영향을 주지 않았다\"입니다.\n",
        "# 대립가설(H1)은 \"패치는 프로그램의 실행 속도에 영향을 주었다\"입니다.\n",
        "\n",
        "# 두 시점의 관측치들을 ttest_rel의 파라미터로 넘겨 p값을 계산합니다.\n",
        "_, p_value = ttest_rel(befores, afters)\n",
        "\n",
        "# 유의수준을 0.05로 선택합니다.\n",
        "a = 0.05\n",
        "\n",
        "# p값이 유의수준보다 작은 경우 귀무가설을 기각합니다.\n",
        "if p_value < a:\n",
        "  print(f\"P-value [{p_value}] < Significant level [{a}]; H1 is accepted.\")\n",
        "else:\n",
        "  print(f\"P-value [{p_value}] >= Significant level [{a}]; H0 is accepted.\")\n",
        "\n",
        "# 결과를 보면, p값이 유의수준보다 크기 때문에 귀무가설을 받아들입니다.\n",
        "# 따라서, 이 분석의 결론은 \"패치는 프로그램의 실행 속도에 영향을 주지 않았다\"가 됩니다."
      ],
      "metadata": {
        "colab": {
          "base_uri": "https://localhost:8080/"
        },
        "id": "xz6JQWJLg-Na",
        "outputId": "13425cbb-0c34-46a8-ff4a-afb2816f1867"
      },
      "execution_count": 7,
      "outputs": [
        {
          "output_type": "stream",
          "name": "stdout",
          "text": [
            "P-value [0.08168120130914497] >= Significant level [0.05]; H0 is accepted.\n"
          ]
        }
      ]
    },
    {
      "cell_type": "markdown",
      "source": [
        "## **6. 카이제곱 검정 (Chi-squared test)**\n",
        "\n",
        "카이제곱 검정은 어떠한 집단 내 범주형 변수별 빈도수의 기대치와 실제 관측치의 비교를 수행할 때 사용합니다.\n",
        "\n",
        "예를 들어, 타이타닉 데이터셋의 생존 여부별 빈도 분포가 성별에 무관하게 동일한지를 확인하고자 합니다. 이 때, 귀무가설은 \"성별에 따른 생존 여부 비율은 동일하다\" 이고, 대립가설은 \"성별에 따른 생존 여부 비율은 동일하지 않다\"가 됩니다. 구체적으로, 여성의 생존자 비율을 구하고, 이 비율을 이용해 남성의 기대 생존자 빈도를 계산한 후, 남성의 실제 생존자 빈도를 추출해 실제 관측값과 기대값을 비교합니다."
      ],
      "metadata": {
        "id": "ndECK1L2DIZd"
      }
    },
    {
      "cell_type": "code",
      "source": [
        "# 6-예시.\n",
        "\n",
        "# 카이제곱 검정에는 scipy의 chisquare 메서드를 이용합니다.\n",
        "from scipy.stats import chisquare\n",
        "\n",
        "df_titanic = pd.read_csv(\"https://raw.githubusercontent.com/datasciencedojo/datasets/master/titanic.csv\")\n",
        "\n",
        "# 생존 여부 혹은 성별 정보가 없는 레코드는 제거합니다.\n",
        "df_titanic = df_titanic.dropna(subset = [\"Survived\", \"Sex\"])\n",
        "\n",
        "# 여성 승객의 생존자 비율을 계산합니다.\n",
        "female_survival_perc = np.array(df_titanic[df_titanic[\"Sex\"] == \"female\"][\"Survived\"].value_counts().sort_index().values\n",
        "                        / len(df_titanic[df_titanic[\"Sex\"] == \"female\"]))\n",
        "\n",
        "# 여성 승객의 생존자 비율을 이용해 남성 승객의 생존 여부별 예상 빈도수를 계산합니다.\n",
        "male_survival_expectations = np.array(female_survival_perc) * len(df_titanic[df_titanic[\"Sex\"] == \"male\"])\n",
        "\n",
        "# 실제 남성 승객의 생존 여부별 빈도수를 추출합니다.\n",
        "male_survival_observations = np.array(df_titanic[df_titanic[\"Sex\"] == \"male\"][\"Survived\"].value_counts().sort_index().values)\n",
        "\n",
        "# 여기서, 기대값은 male_survival_expectations가 됩니다.\n",
        "# 관측값은 male_survival_observations가 됩니다.\n",
        "\n",
        "# 또한, 귀무가설은 \"성별에 따른 생존 여부 비율은 동일하다\"이고, 대립가설은 \"성별에 따른 생존 여부 비율은 동일하지 않다\"가 됩니다.\n",
        "\n",
        "# 관측값과 기대값을 chisquare의 파라미터로 전달하여 p값을 계산합니다.\n",
        "_, p_value = chisquare(male_survival_observations, male_survival_expectations)\n",
        "\n",
        "# 유의수준은 0.05로 선택합니다.\n",
        "a = 0.05\n",
        "\n",
        "# p값이 유의수준보다 작은 경우 귀무가설을 기각합니다.\n",
        "if p_value < a:\n",
        "  print(f\"P-value [{p_value}] < Significant level [{a}]; H1 is accepted.\")\n",
        "else:\n",
        "  print(f\"P-value [{p_value}] >= Significant level [{a}]; H0 is accepted.\")\n",
        "\n",
        "# 결과를 보면, p값이 유의수준보다 작기 때문에 대립가설을 받아들입니다.\n",
        "# 따라서, 이 분석의 결론은 \"성별에 따른 생존 여부 비율은 동일하지 않다\"가 됩니다."
      ],
      "metadata": {
        "colab": {
          "base_uri": "https://localhost:8080/"
        },
        "id": "bNmlTPieDIAz",
        "outputId": "dae57eef-4983-4f77-aedd-d283635f5cdd"
      },
      "execution_count": 8,
      "outputs": [
        {
          "output_type": "stream",
          "name": "stdout",
          "text": [
            "P-value [1.4288364090003192e-202] < Significant level [0.05]; H1 is accepted.\n"
          ]
        }
      ]
    },
    {
      "cell_type": "code",
      "source": [
        "# 6. df_titanic을 이용하여, 임의의 귀무가설과 대립가설을 수립해 카이제곱 검정을 수행하세요.\n",
        "# 유의수준은 임의로 설정하세요.\n",
        "# 출력은 예시와 같은 방식으로 하세요.\n",
        "from scipy.stats import chisquare\n",
        "\n",
        "df_titanic = pd.read_csv(\"https://raw.githubusercontent.com/datasciencedojo/datasets/master/titanic.csv\")\n",
        "\n",
        "# 아래에 귀무가설(H0)과 대립가설(H1)을 기재하세요.\n",
        "# H0\n",
        "\"\"\"\n",
        "승객의 생존 여부와 객실 등급은 독립적이다.\n",
        "\"\"\"\n",
        "\n",
        "# H1\n",
        "\"\"\"\n",
        "승객의 생존 여부와 객실 등급은 독립적이지 않다.\n",
        "\"\"\"\n",
        "\n",
        "# 아래 구간 내에서 카이제곱 검정을 수행하세요.\n",
        "######>\n",
        "\n",
        "alpha = 0.05\n",
        "observed_values = pd.crosstab(df_titanic[\"Survived\"], df_titanic[\"Pclass\"]).values.flatten()\n",
        "expected_values = np.array(df_titanic[\"Survived\"].value_counts().sort_index().values\n",
        "                           * df_titanic[\"Pclass\"].value_counts().sort_index().values / len(df_titanic))\n",
        "\n",
        "_, p_value = chisquare(observed_values, expected_values)\n",
        "\n",
        "\n",
        "######<\n",
        "\n",
        "# 아래에 분석의 결론을 기재하세요.\n",
        "\"\"\"\n",
        "만약 p-값이 유의수준 0.05보다 작다면 \"승객의 생존 여부와 객실 등급은 독립적이지 않다\"라는 결론을 내릴 것입니다.\n",
        "그렇지 않다면 \"승객의 생존 여부와 객실 등급은 독립적이다\"라는 귀무가설을 유지할 것입니다.\n",
        "\"\"\""
      ],
      "metadata": {
        "colab": {
          "base_uri": "https://localhost:8080/",
          "height": 35
        },
        "id": "TLgjdCPDPfrK",
        "outputId": "0f3bb244-029d-4a25-ba02-260cf4ea92d9"
      },
      "execution_count": null,
      "outputs": [
        {
          "output_type": "execute_result",
          "data": {
            "text/plain": [
              "'\\n\\n'"
            ],
            "application/vnd.google.colaboratory.intrinsic+json": {
              "type": "string"
            }
          },
          "metadata": {},
          "execution_count": 9
        }
      ]
    }
  ]
}