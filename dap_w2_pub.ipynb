{
  "nbformat": 4,
  "nbformat_minor": 0,
  "metadata": {
    "colab": {
      "provenance": [],
      "include_colab_link": true
    },
    "kernelspec": {
      "name": "python3",
      "display_name": "Python 3"
    },
    "language_info": {
      "name": "python"
    }
  },
  "cells": [
    {
      "cell_type": "markdown",
      "metadata": {
        "id": "view-in-github",
        "colab_type": "text"
      },
      "source": [
        "<a href=\"https://colab.research.google.com/github/yunji6533/Data-Analysys-Programming/blob/main/dap_w2_pub.ipynb\" target=\"_parent\"><img src=\"https://colab.research.google.com/assets/colab-badge.svg\" alt=\"Open In Colab\"/></a>"
      ]
    },
    {
      "cell_type": "markdown",
      "source": [
        "## **1. Python 산술, 논리 및 비교 연산자**\n",
        "\n",
        "Python에선 물론이고, 나타내는 문자열은 다를 수 있지만 다른 모든 프로그래밍 언어에서도 절대 빠지지 않고 사용되는 기본적인 연산자들의 이용을 연습합니다. <br>\n",
        "\n",
        "---\n",
        "\n",
        "산술 연산자는 `+`, `-`, `*`, `/`와 같은 기본적인 사칙연산에 더해, *modulo(나머지)* 연산을 수행하는 `%`, 제곱 연산을 수행하는 `**`, 나누기 계산의 결과에서 소수점을 버린 결과를 반환하는(C 등에서 어떠한 정수로 딱 나누어 떨어지지 않는 정수의 나눗셈 결과에서 정수 부분만이 저장되는 것과 비슷합니다.)  `//`이 존재합니다. <br><br>\n",
        "\n",
        "논리 연산자는 보통 `||`, `&&`, `!` 등으로 이용되는 타 언어들과는 달리, 각각 `or`, `and`, `not`으로 이용됩니다. <br><br>\n",
        "\n",
        "비교 연산자는 타 언어들과 동일하게, `==`, `!=`, `>`, `<`, `>=`, `<=`으로 이용됩니다. <br><br>\n",
        "\n",
        "비트 연산자 또한 존재하며, 다른 언어들과 이용 방법이 일치합니다. `bool` 타입 값에 대하여 AND(`&`), OR(`|`), NOT(`~`), XOR(`^`) 연산을 수행하면 논리 연산자와 비슷하게 이용될 수 있습니다. 반대로, 논리 연산자인 `and`와 `or`는 비트 연산자 `&`와 `|`와 같이 사용할 수 있습니다.<br><br>\n",
        "\n",
        "아래 코드 셀의 주석에 맞게 빈 칸을 채워 올바른 실행 결과가 나오게 해보세요.\n",
        "\n",
        "---\n",
        "\n",
        "[연산자](https://www.w3schools.com/python/gloss_python_operators.asp) <br>\n",
        "[산술 연산자](https://www.w3schools.com/python/gloss_python_arithmetic_operators.asp) <br>\n",
        "[논리 연산자](https://www.w3schools.com/python/gloss_python_logical_operators.asp) <br>\n",
        "[비교 연산자](https://www.w3schools.com/python/gloss_python_comparison_operators.asp)"
      ],
      "metadata": {
        "id": "iceLGasNE1L3"
      }
    },
    {
      "cell_type": "code",
      "source": [
        "# 덧셈 연산\n",
        "print(f'1 + 3 = {1 + 3}')\n",
        "\n",
        "# 뺄셈 연산\n",
        "print(f'6 - 7.5 = {6 - 7.5}')\n",
        "\n",
        "# 곱셈 연산\n",
        "print(f'3 * 3 = {3 * 3}')\n",
        "\n",
        "# 제곱 연산\n",
        "print(f'3 ^ 3 = {3 ** 3}')\n",
        "\n",
        "# 나눗셈 연산\n",
        "print(f'11 / 5 = {11 / 5}')\n",
        "\n",
        "# modulo 연산\n",
        "print(f'11 mod 5 = {11 % 5}') #############\n",
        "\n",
        "# floor 나눗셈 연산\n",
        "print(f'floor(11 / 5) = {11 // 5}')\n",
        "\n",
        "# Logical AND 연산\n",
        "print(f'True AND True = {True and True}')\n",
        "\n",
        "# Logical OR 연산\n",
        "print(f'True OR False = {True or False}') ###############\n",
        "\n",
        "# Logical NOT 연산\n",
        "print(f'NOT True = {not True}') #################\n",
        "\n",
        "# lt 비교 연산\n",
        "print(f'10 < 5 = {10 < 5}')\n",
        "\n",
        "# ge 비교 연산\n",
        "print(f'10 >= 5 = {10 >= 5}') ##############\n",
        "\n",
        "# Bitwise AND 연산\n",
        "print(f'7 AND -3 = {7 & (-3)}') ###############\n",
        "\n",
        "# Bitwise XOR 연산\n",
        "print(f'12 XOR 5 = {12 ^ 5}')\n",
        "\n",
        "# Bitwise XOR을 이용해 Logical XOR을 수행하세요.\n",
        "print(f'True XOR True = {True ^ True}') ############\n",
        "print(f'True XOR False = {True ^ False}') ###########\n",
        "print(f'False XOR False = {False ^ False}') #############"
      ],
      "metadata": {
        "colab": {
          "base_uri": "https://localhost:8080/"
        },
        "id": "Otm4-c5OFGOL",
        "outputId": "c0f8594d-4336-4c21-d159-7d86b20c00ba"
      },
      "execution_count": 14,
      "outputs": [
        {
          "output_type": "stream",
          "name": "stdout",
          "text": [
            "1 + 3 = 4\n",
            "6 - 7.5 = -1.5\n",
            "3 * 3 = 9\n",
            "3 ^ 3 = 27\n",
            "11 / 5 = 2.2\n",
            "11 mod 5 = 1\n",
            "floor(11 / 5) = 2\n",
            "True AND True = True\n",
            "True OR False = True\n",
            "NOT True = False\n",
            "10 < 5 = False\n",
            "10 >= 5 = True\n",
            "7 AND -3 = 5\n",
            "12 XOR 5 = 9\n",
            "True XOR True = False\n",
            "True XOR False = True\n",
            "False XOR False = False\n"
          ]
        }
      ]
    },
    {
      "cell_type": "markdown",
      "source": [
        "## **2. Python List, Tuple**\n",
        "Python에서 배열을 나타낼 때 사용되는 두 자료형인 List와 Tuple의 이용을 연습합니다.\n",
        "\n",
        "---\n",
        "\n",
        "Python은 배열을 저장할 때 List와 Tuple을 이용합니다. List는 대괄호(`[ ... ]`)로 표기하며, Tuple은 소괄호(`( ... )`)로 표기합니다. 간단하게 사용하는 입장에서 List와 Tuple의 차이는, List는 item의 삽입, 삭제 및 수정이 가능하지만, Tuple은 가능하지 않다는 것입니다. <br>\n",
        "\n",
        "자세한 사용 방법은 아래 링크, 강의 자료 등을 참고하시고, 다음 코드의 주석에 맞게 빈 줄을 채워 실행하세요.\n",
        "\n",
        "---\n",
        "\n",
        "[List](https://www.w3schools.com/python/python_lists.asp) <br>\n",
        "[Tuple](https://www.w3schools.com/python/python_tuples.asp)"
      ],
      "metadata": {
        "id": "0I1TLttijZJY"
      }
    },
    {
      "cell_type": "code",
      "source": [
        "t = ('가', '나', '다')\n",
        "\n",
        "print(t)\n",
        "\n",
        "try:\n",
        "  #### t의 1번(즉, 두 번째) item을 'a'로 바꾸는 시도를 해보세요.\n",
        "  ###############\n",
        "  t[1] = 'a'\n",
        "except TypeError:\n",
        "  print(\"tuple은 item을 수정할 수 없습니다.\")\n",
        "\n",
        "print(t)\n",
        "\n",
        "l = [1, 2, 3]\n",
        "\n",
        "print(l)\n",
        "\n",
        "try:\n",
        "  #### l의 1번(즉, 두 번째) item을 'a'로 바꿔보세요.\n",
        "  ###############\n",
        "   l[1] = 'a'\n",
        "except TypeError:\n",
        "  print(\"list는 item을 수정할 수 있습니다.\")\n",
        "\n",
        "print(l)\n",
        "\n",
        "#### l의 끝에 4를 넣어보세요.\n",
        "##############\n",
        "l.append(4)\n",
        "\n",
        "print(l)\n",
        "\n",
        "#### tuple type인 t의 내용을 가지는 list t_l을 만드세요.\n",
        "##############\n",
        "t_l = list(t)\n",
        "\n",
        "\n",
        "print(t_l)\n",
        "\n",
        "#### l의 뒤에 t_l을 합쳐보세요(concatenation).\n",
        "###############\n",
        "l.extend(t_l)\n",
        "\n",
        "print(l)\n",
        "\n",
        "#### l의 길이를 출력하세요.\n",
        "#############\n",
        "print(len(l))"
      ],
      "metadata": {
        "colab": {
          "base_uri": "https://localhost:8080/"
        },
        "id": "CxToTzFLkuqT",
        "outputId": "8af6823d-408c-4bf9-ca77-b3ce09784e89"
      },
      "execution_count": 13,
      "outputs": [
        {
          "output_type": "stream",
          "name": "stdout",
          "text": [
            "('가', '나', '다')\n",
            "tuple은 item을 수정할 수 없습니다.\n",
            "('가', '나', '다')\n",
            "[1, 2, 3]\n",
            "[1, 'a', 3]\n",
            "[1, 'a', 3, 4]\n",
            "['가', '나', '다']\n",
            "[1, 'a', 3, 4, '가', '나', '다']\n",
            "7\n"
          ]
        }
      ]
    },
    {
      "cell_type": "markdown",
      "source": [
        "## **3. Python 함수와 모듈, Pandas를 이용해 CSV 파일 불러오기**\n",
        "Python에서 함수를 만들고 이용하는 법, 모듈을 불러와 사용하는 방법 등을 연습합니다.\n",
        "\n",
        "---\n",
        "\n",
        "Python의 가장 큰 장점은 읽고, 쓰기 쉽다는 것도 있지만, 무엇보다도 Python을 이용해 해결하고자 하는 거의 모든 문제에 대해 복잡한 코드를 직접 짤 필요 없이, 정말 셀 수도 없이 많은 라이브러리가 이미 존재하여 가져와서 쓰기만 하면 된다는 점입니다. <br>\n",
        "\n",
        "예를 들어, 크롤링을 하여 데이터를 직접 수집하겠다고 할 때, 완전히 맨땅에 시작한다고 하면 HTML 문서를 분석하는 매우 복잡한 코드를 짜야 하겠지만, Python을 이용한다면 [Beautiful Soup](https://www.crummy.com/software/BeautifulSoup/)(`bs4`), [Selenium](https://www.selenium.dev/documentation/webdriver/)(`selenium.webdriver`)을 이용하면 라이브러리 사용법만을 공부해서 원하는 작업을 바로 수행할 수 있습니다. <br>\n",
        "\n",
        "데이터 분석과 직접적인 관련이 없는, `ssh`를 이용한 원격 서버 관리 자동화 등과 같은 작업 또한 [Paramiko](https://www.paramiko.org/)(`paramiko`)나 [Netmiko](https://github.com/ktbyers/netmiko)(`netmiko`)를 이용하면 Python을 이용해 쉽게 할 수 있습니다.\n",
        "\n",
        "---\n",
        "\n",
        "데이터 분석에서, 특히 csv 등의 tabular 데이터를 다룰 때에는 [Pandas](https://pandas.pydata.org/)(`pandas`) 라이브러리를 많이 이용하며, 수치, 특히 2차원 이상의 배열을 다룰 때에는 [NumPy](https://numpy.org/)(`numpy`) 라이브러리를 이용합니다. 이 두 라이브러리는 서로 상호 보완적 관계에 있으며, 간단히 얘기하자면 NumPy는 효율적인 계산에 특화되어 있고, Pandas는 대용량 테이블 데이터의 집계와 조작에 특화되어 있습니다. 조금 더 자세한 설명은 [링크](https://www.geeksforgeeks.org/difference-between-pandas-vs-numpy/)를 참조해주세요.\n",
        "\n",
        "---\n",
        "\n",
        "Python에서 함수를 선언 및 정의하려면 <br>\n",
        "`def 함수명(파라미터):` 로 열고, 아래 줄부터 탭(`\\t`)으로 띄운 후 함수가 수행할 작업을 적습니다. 타 언어에 있는 중괄호 블록(`void fun() { ... }`) 등은 Python에 없으며, 들여쓰기로 구분됩니다. <br>\n",
        "\n",
        "함수를 호출하는 방법은 타 언어와 동일합니다. <br><br>\n",
        "\n",
        "Python에서 모듈(혹은 패키지)를 불러올 때에는 `import 모듈명` 을 이용합니다. 불러온 모듈에 이명을 붙이고 싶다면, `import 모듈명 as 내가부를이름` 과 같은 형식으로 수행합니다. 모듈에서 특정 함수 혹은 클래스 등만을 가져오려면, `from 모듈명 import 함수명` 과 같은 형식으로 불러옵니다.\n",
        "\n",
        "---\n",
        "\n",
        "[함수](https://www.w3schools.com/python/python_functions.asp) <br>\n",
        "[모듈](https://docs.python.org/3/tutorial/modules.html) <br>\n",
        "[NumPy Identity Matrix](https://numpy.org/doc/stable/reference/generated/numpy.identity.html) <br>\n",
        "[Pandas CSV](https://www.w3schools.com/python/pandas/pandas_csv.asp) <br>\n",
        "[Pandas DataFrame Analysis](https://www.w3schools.com/python/pandas/pandas_analyzing.asp) <br>\n",
        "[PyPI](https://packaging.python.org/en/latest/tutorials/installing-packages/) (`pip install ...`) <br>\n",
        "[Anaconda](https://docs.anaconda.com/free/anaconda/packages/install-packages/) (`conda install ...`)"
      ],
      "metadata": {
        "id": "PHWLrf8EE1T1"
      }
    },
    {
      "cell_type": "code",
      "source": [
        "# NumPy를 import합니다. NumPy는 보통 np라는 별명을 붙여 사용합니다.\n",
        "import numpy as np\n",
        "\n",
        "# 비슷하게, Pandas를 import 해보세요. Pandas는 보통 pd라는 별명을 붙여 사용합니다.\n",
        "############\n",
        "import pandas as pd\n",
        "\n",
        "\n",
        "# NumPy를 이용해 5x5 크기의 identity matrix(단위 행렬)을 만드세요.\n",
        "######\n",
        "np_a = np.identity(5)\n",
        "print(np_a)\n",
        "\n",
        "# 바로 위에서 생성한 np_a를 이용해 pd.DataFrame을 생성해보세요.\n",
        "############\n",
        "pd_df = pd.DataFrame(np_a)\n",
        "print(pd_df)\n",
        "\n",
        "# Pandas를 이용해 파라미터로 전달된 위치에 있는 CSV 파일을 읽어 pd.DataFrame 객체를 생성해 대략적인 내용을 출력하는 함수를 만듭니다.\n",
        "# 주어진 함수 틀 내에 Pandas에서 CSV 파일을 읽을 때 이용하는 함수를 이용해 함수를 완성시켜보세요.\n",
        "def raw_to_df_pd(path):\n",
        "  ##########\n",
        "  df = pd.read_csv('https://raw.githubusercontent.com/selva86/datasets/master/Cars93_miss.csv')\n",
        "  print(df.head())\n",
        "\n",
        "raw_to_df_pd('https://raw.githubusercontent.com/selva86/datasets/master/Cars93_miss.csv')"
      ],
      "metadata": {
        "colab": {
          "base_uri": "https://localhost:8080/"
        },
        "id": "e4j87trgzTO_",
        "outputId": "f6b0137a-6f59-430f-fbf8-1f4165bd358d"
      },
      "execution_count": 12,
      "outputs": [
        {
          "output_type": "stream",
          "name": "stdout",
          "text": [
            "[[1. 0. 0. 0. 0.]\n",
            " [0. 1. 0. 0. 0.]\n",
            " [0. 0. 1. 0. 0.]\n",
            " [0. 0. 0. 1. 0.]\n",
            " [0. 0. 0. 0. 1.]]\n",
            "     0    1    2    3    4\n",
            "0  1.0  0.0  0.0  0.0  0.0\n",
            "1  0.0  1.0  0.0  0.0  0.0\n",
            "2  0.0  0.0  1.0  0.0  0.0\n",
            "3  0.0  0.0  0.0  1.0  0.0\n",
            "4  0.0  0.0  0.0  0.0  1.0\n",
            "  Manufacturer    Model     Type  Min.Price  Price  Max.Price  MPG.city  \\\n",
            "0        Acura  Integra    Small       12.9   15.9       18.8      25.0   \n",
            "1          NaN   Legend  Midsize       29.2   33.9       38.7      18.0   \n",
            "2         Audi       90  Compact       25.9   29.1       32.3      20.0   \n",
            "3         Audi      100  Midsize        NaN   37.7       44.6      19.0   \n",
            "4          BMW     535i  Midsize        NaN   30.0        NaN      22.0   \n",
            "\n",
            "   MPG.highway             AirBags DriveTrain  ... Passengers  Length  \\\n",
            "0         31.0                None      Front  ...        5.0   177.0   \n",
            "1         25.0  Driver & Passenger      Front  ...        5.0   195.0   \n",
            "2         26.0         Driver only      Front  ...        5.0   180.0   \n",
            "3         26.0  Driver & Passenger        NaN  ...        6.0   193.0   \n",
            "4         30.0                 NaN       Rear  ...        4.0   186.0   \n",
            "\n",
            "   Wheelbase  Width  Turn.circle Rear.seat.room  Luggage.room  Weight  \\\n",
            "0      102.0   68.0         37.0           26.5           NaN  2705.0   \n",
            "1      115.0   71.0         38.0           30.0          15.0  3560.0   \n",
            "2      102.0   67.0         37.0           28.0          14.0  3375.0   \n",
            "3      106.0    NaN         37.0           31.0          17.0  3405.0   \n",
            "4      109.0   69.0         39.0           27.0          13.0  3640.0   \n",
            "\n",
            "    Origin           Make  \n",
            "0  non-USA  Acura Integra  \n",
            "1  non-USA   Acura Legend  \n",
            "2  non-USA        Audi 90  \n",
            "3  non-USA       Audi 100  \n",
            "4  non-USA       BMW 535i  \n",
            "\n",
            "[5 rows x 27 columns]\n"
          ]
        }
      ]
    },
    {
      "cell_type": "markdown",
      "source": [
        "import pandas as pd\n",
        "\n",
        "def raw_to_df_pd(path):\n",
        "    try:\n",
        "        df = pd.read_csv(path)\n",
        "        print(df.head())\n",
        "    except FileNotFoundError:\n",
        "        print(\"File not found!\")\n",
        "\n",
        "# 함수를 호출할 때 CSV 파일의 경로를 전달합니다.\n",
        "raw_to_df_pd('data.csv')\n"
      ],
      "metadata": {
        "id": "2KkBzTBION_W"
      }
    },
    {
      "cell_type": "markdown",
      "source": [
        "import pandas as pd\n",
        "\n",
        "def raw_to_df_pd(path):\n",
        "    try:\n",
        "        df = pd.read_csv(path)\n",
        "        print(df.head())\n",
        "    except FileNotFoundError:\n",
        "        print(\"File not found!\")\n",
        "\n",
        "# 함수를 호출할 때 CSV 파일의 경로를 전달합니다.\n",
        "raw_to_df_pd('data.csv')\n"
      ],
      "metadata": {
        "id": "fZSSZxrwOID2"
      }
    },
    {
      "cell_type": "markdown",
      "source": [
        "## **4. Set, Dictionary**\n",
        "\n",
        "Set은 소속된 item의 중복을 허용하지 않는 자료형으로, 중괄호(`{ ... }`)로 표기합니다. <br>\n",
        "Dict(Dictionary)는 Key와 Value의 쌍들을 가지는 자료형으로, Key를 list의 index와 같이 사용해 value를 찾을 수 있습니다. 중괄호 안에 Key와 Value를 `:`으로, Key-Value 쌍 간에는 `,`으로 구분하는 식으로 다음과 같이 표기합니다. `{'key1' : 'value1', 'key2' : 'value2'}` <br>\n",
        "\n",
        "Set와 Dict는 둘 다 중괄호로 표기하는데, 만약 빈 중괄호(`{}`)를 이용하게 되면, Set가 아닌 Dict가 생성됩니다. 빈 Set를 만들기 위해서는 `set()`를 이용해야 합니다.\n",
        "\n",
        "---\n",
        "\n",
        "[Python의 자료형](https://docs.python.org/3/tutorial/datastructures.html)\n"
      ],
      "metadata": {
        "id": "kVnm-R15E1zA"
      }
    },
    {
      "cell_type": "code",
      "source": [
        "# 아래 list는 중복된 값을 여럿 가집니다.\n",
        "l = [5, 1, 3, 2, 1, 1, 3, 2, 1, 4, 1, 2]\n",
        "print(l)\n",
        "\n",
        "# 위 list l을 이용해 set를 생성하여, 중복된 값이 없는 집합 s를 만들어보세요.\n",
        "######################\n",
        "s = set(l)\n",
        "print(s)\n",
        "\n",
        "# 아래 두 list가 주어집니다.\n",
        "keys = [\"key1\", \"key2\", \"key3\"]\n",
        "values = [\"val1\", \"val2\", \"val3\"]\n",
        "\n",
        "# 위 두 list의 값을 이용해 (for문 등의 반복문을 이용하여도 좋고, key, value를 직접 입력해도 좋습니다.)\n",
        "# keys의 item들을 key로, values의 item들을 value로 가지는 dict를 만드세요.\n",
        "d = dict(zip(keys, values))\n",
        "print(d)"
      ],
      "metadata": {
        "colab": {
          "base_uri": "https://localhost:8080/"
        },
        "id": "VHmpsudH1tQb",
        "outputId": "9f5b6b48-a716-4bad-fbe1-c1c714bee114"
      },
      "execution_count": 15,
      "outputs": [
        {
          "output_type": "stream",
          "name": "stdout",
          "text": [
            "[5, 1, 3, 2, 1, 1, 3, 2, 1, 4, 1, 2]\n",
            "{1, 2, 3, 4, 5}\n",
            "{'key1': 'val1', 'key2': 'val2', 'key3': 'val3'}\n"
          ]
        }
      ]
    },
    {
      "cell_type": "markdown",
      "source": [
        "## **5. List Comprehension**\n",
        "\n",
        "Python에서 List 등의 배열을 가진 자료형을 다룰 때에는(생성, 삽입, 조회 등 모두) `for`문과 같은 반복문을 많이 이용합니다. <br>\n",
        "\n",
        "그러나 Python에서 List를 생성할 때에는 `for`문 뿐만 아니라, 다른 배열형(iterable) 자료형을 반복하는 것을 이용해 좀 더 짧은 코드로 같은 작업을 수행할 수 있습니다. 이를 List Comprehension이라고 하며, 익숙해지면 많이 편해집니다.\n",
        "\n",
        "---\n",
        "\n",
        "[Python의 for문](https://www.w3schools.com/python/python_for_loops.asp) <br>\n",
        "[Python List Comprehension](https://www.w3schools.com/python/python_lists_comprehension.asp)"
      ],
      "metadata": {
        "id": "cT27gyq4E1ja"
      }
    },
    {
      "cell_type": "code",
      "source": [
        "# 아래 두 같은 길이의 list가 주어집니다.\n",
        "keys = [\"key1\", \"key2\", \"key3\", \"key4\", \"key5\", \"key6\", \"key7\", \"key8\", \"key9\", \"key0\"]\n",
        "values = [\"val1\", \"val2\", \"val3\", \"val4\", \"val5\", \"val6\", \"val7\", \"val8\", \"val9\", \"val0\"]\n",
        "\n",
        "# for문과 위 두 list를 이용해 dictionary를 생성합니다.\n",
        "d_it = dict()\n",
        "for i in range(len(keys)):\n",
        "  d_it[keys[i]] = values[i]\n",
        "print(d_it)\n",
        "print(len(d_it))\n",
        "\n",
        "# 링크를 참조해, list comprehension으로 위 for문과 동일한 작업을 해 d_it과 내용이 동일한 dict인 d_lc를 생성하세요.\n",
        "d_lc = {keys[i]: values[i] for i in range(len(keys))}\n",
        "print(d_lc)\n",
        "print(len(d_it))"
      ],
      "metadata": {
        "colab": {
          "base_uri": "https://localhost:8080/"
        },
        "id": "nh8G4Be1oUsr",
        "outputId": "b79e6305-2182-4f18-f2f8-d513f074077e"
      },
      "execution_count": 16,
      "outputs": [
        {
          "output_type": "stream",
          "name": "stdout",
          "text": [
            "{'key1': 'val1', 'key2': 'val2', 'key3': 'val3', 'key4': 'val4', 'key5': 'val5', 'key6': 'val6', 'key7': 'val7', 'key8': 'val8', 'key9': 'val9', 'key0': 'val0'}\n",
            "10\n",
            "{'key1': 'val1', 'key2': 'val2', 'key3': 'val3', 'key4': 'val4', 'key5': 'val5', 'key6': 'val6', 'key7': 'val7', 'key8': 'val8', 'key9': 'val9', 'key0': 'val0'}\n",
            "10\n"
          ]
        }
      ]
    },
    {
      "cell_type": "markdown",
      "source": [
        "## **!. 제출 관련**\n",
        "실습 과제 수행은 Google Colab, Jupyter Notebook 등 무엇을 사용하여도 무관합니다.\n",
        "\n",
        "실습 과제 제출은 [GitHub](https://github.com/)을 이용합니다. Public Repository를 생성한 후, 해당 repository에 ***실행된*** 노트북 파일(.ipynb)을 업로드하여 해당 링크를 실습 과제 제출 폼의 본문에 담고, GitHub에 업로드한 파일과 동일한 파일을 과제 제출 폼의 첨부 파일란에 업로드하여 제출하시면 됩니다.\n",
        "\n",
        "제출 관련하여 문의사항이 있는 경우 강의 Q&A 게시판을 이용해주세요."
      ],
      "metadata": {
        "id": "EGbI5VQXEu-E"
      }
    }
  ]
}